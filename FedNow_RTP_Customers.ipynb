{
 "cells": [
  {
   "cell_type": "markdown",
   "id": "e944b1d9-0c2a-415c-8d15-a7895bd10fc6",
   "metadata": {},
   "source": [
    "# Step 1: Prep Data"
   ]
  },
  {
   "cell_type": "code",
   "execution_count": 1,
   "id": "b8e17eeb-d2ef-434d-9b05-d4cbfaf61948",
   "metadata": {
    "scrolled": true
   },
   "outputs": [],
   "source": [
    "import pandas as pd\n",
    "import dtale\n",
    "\n",
    "# Import dataframes\n",
    "\n",
    "# ach_df with names of bank entities\n",
    "ach_df = pd.read_csv('FedACHDir.csv')\n",
    "\n",
    "# fednow_df with the routing numbers of banks that use FedNow\n",
    "fednow_df = pd.read_csv('Fednow_RTNs.csv')\n",
    "\n",
    "# rtp_df with the routing numbers of banks that use RTP\n",
    "rtp_df = pd.read_csv('RTP_RTNs.csv')"
   ]
  },
  {
   "cell_type": "code",
   "execution_count": 2,
   "id": "939f607a-0abc-423e-a0d2-2b762061e0a8",
   "metadata": {},
   "outputs": [
    {
     "data": {
      "text/html": [
       "\n",
       "        <iframe\n",
       "            width=\"100%\"\n",
       "            height=\"475\"\n",
       "            src=\"http://kayleighs-mbp.lan:40000/dtale/iframe/1\"\n",
       "            frameborder=\"0\"\n",
       "            allowfullscreen\n",
       "            \n",
       "        ></iframe>\n",
       "        "
      ],
      "text/plain": [
       "<IPython.lib.display.IFrame at 0x126c201d0>"
      ]
     },
     "metadata": {},
     "output_type": "display_data"
    },
    {
     "data": {
      "text/plain": []
     },
     "execution_count": 2,
     "metadata": {},
     "output_type": "execute_result"
    }
   ],
   "source": [
    "# Replace Routing_Number in ach_df with New_RN if New_RN is non-zero\n",
    "ach_df['Routing_Number'] = ach_df.apply(lambda row: row['New_RN'] if row['New_RN'] != 0 else row['Routing_Number'], axis=1)\n",
    "\n",
    "# Check work\n",
    "dtale.show(ach_df)"
   ]
  },
  {
   "cell_type": "code",
   "execution_count": 3,
   "id": "2cdd94a5-1421-49dd-99e3-7c0d4c49025f",
   "metadata": {},
   "outputs": [
    {
     "name": "stdout",
     "output_type": "stream",
     "text": [
      "       Routing_Number  FRB_Number                        Customer_Name  \\\n",
      "0            11000015    11000015                 FEDERAL RESERVE BANK   \n",
      "1            11000028    11000015  STATE STREET BANK AND TRUST COMPANY   \n",
      "2            11000138    11000015                BANK OF AMERICA, N.A.   \n",
      "3            11000206    11000015                  BANK OF AMERICA N.A   \n",
      "4            11000390    11000015                  BANK OF AMERICA N.A   \n",
      "...               ...         ...                                  ...   \n",
      "17222       325272306   121000374                          TONGASS FCU   \n",
      "17223       325272335   121000374                 MATANUSKA VALLEY FCU   \n",
      "17224       325272351   121000374         TONGASS FEDERAL CREDIT UNION   \n",
      "17226       325280039   121000374             MAC FEDERAL CREDIT UNION   \n",
      "17227       655060042    51000033       SOCIAL SECURITY ADMINISTRATION   \n",
      "\n",
      "            City State    Zip  \n",
      "0        ATLANTA    GA  30309  \n",
      "1      N. QUINCY    MA   2171  \n",
      "2        HENRICO    VA  23228  \n",
      "3       RICHMOND    VA  23261  \n",
      "4       RICHMOND    VA  23261  \n",
      "...          ...   ...    ...  \n",
      "17222  KETCHIKAN    AK  99901  \n",
      "17223     PALMER    AK  99645  \n",
      "17224  KETCHIKAN    AK  99901  \n",
      "17226  FAIRBANKS    AK  99701  \n",
      "17227  BALTIMORE    MD  21235  \n",
      "\n",
      "[15731 rows x 6 columns]\n"
     ]
    }
   ],
   "source": [
    "# Drop unnecessary New_RN column\n",
    "ach_df_no_new_rn = ach_df.drop(columns=['New_RN'])\n",
    "\n",
    "# Remove duplicates based on routing number\n",
    "ach_df_no_duplicates = ach_df_no_new_rn.drop_duplicates(subset='Routing_Number', keep='first')\n",
    "\n",
    "# Drop other unnecessary columns\n",
    "ach_df_cleaned = ach_df_no_duplicates.drop(columns=['Office_Code','Rec_Type','Change_Date','Mail_Address','Zip_EXT','Area_Code','Prefix','Suffix','Inst_Status','Data_View'])\n",
    "\n",
    "print(ach_df_cleaned)"
   ]
  },
  {
   "cell_type": "markdown",
   "id": "575b39b9-9657-4c7b-be51-9d02a0bae477",
   "metadata": {},
   "source": [
    "# Step 2: Flag FedNow and RTP Customers\n",
    "\n",
    "### 1 = yes\n",
    "### 0 = no"
   ]
  },
  {
   "cell_type": "code",
   "execution_count": 4,
   "id": "0bd64f7b-8411-4e7f-a3ab-1524cdfb5688",
   "metadata": {},
   "outputs": [],
   "source": [
    "# Create a copy of the ACH data to add flags\n",
    "df_with_flags = ach_df_cleaned.copy()\n",
    "\n",
    "# Ensure 'Routing_Number' is the same data type across all datasets (convert to string)\n",
    "df_with_flags['Routing_Number'] = df_with_flags['Routing_Number'].astype(str)\n",
    "fednow_df['Routing_Number'] = fednow_df['Routing_Number'].astype(str)\n",
    "rtp_df['Routing_Number'] = rtp_df['Routing_Number'].astype(str)"
   ]
  },
  {
   "cell_type": "code",
   "execution_count": 5,
   "id": "07ca0ede-4ada-4038-9891-3cff690e186b",
   "metadata": {},
   "outputs": [],
   "source": [
    "# Merge with FedNow dataset\n",
    "df_with_flags = df_with_flags.merge(fednow_df[['Routing_Number']], on='Routing_Number', how='left', indicator='in_fednow')\n",
    "\n",
    "# Create the FedNow flag column: 1 if the routing number is found in fednow_df, otherwise 0\n",
    "df_with_flags['in_fednow'] = (df_with_flags['in_fednow'] == 'both').astype(int)\n",
    "\n",
    "# Merge with RTP dataset\n",
    "df_with_flags = df_with_flags.merge(rtp_df[['Routing_Number']], on='Routing_Number', how='left', indicator='in_rtp')\n",
    "\n",
    "# Create the RTP flag column: 1 if the routing number is found in rtp_df, otherwise 0\n",
    "df_with_flags['in_rtp'] = (df_with_flags['in_rtp'] == 'both').astype(int)\n",
    "\n",
    "# Fill NaN values for missing IDs (from merging) with 0 for both flags\n",
    "df_with_flags['in_fednow'] = df_with_flags['in_fednow'].fillna(0).astype(int)\n",
    "df_with_flags['in_rtp'] = df_with_flags['in_rtp'].fillna(0).astype(int)\n",
    "\n",
    "# Final output: Display the DataFrame with the flags\n",
    "dtale.show(df_with_flags)\n",
    "\n",
    "# Save the DataFrame with the flags\n",
    "df_with_flags.to_csv('FedNow_RTP_in_dir.csv', index=False)"
   ]
  },
  {
   "cell_type": "markdown",
   "id": "859d1618-fdbe-4a9b-b2d1-cf43eb3317a2",
   "metadata": {},
   "source": [
    "# Step 3: Check for Unidentified Routing Numbers and Extract to Separate Datasets"
   ]
  },
  {
   "cell_type": "code",
   "execution_count": 6,
   "id": "3c9749b8-2d43-4a1f-ad81-193275d6dd7e",
   "metadata": {},
   "outputs": [
    {
     "name": "stdout",
     "output_type": "stream",
     "text": [
      "Number of banks in FedNow: 1425\n",
      "Number of banks in RTP: 1744\n"
     ]
    }
   ],
   "source": [
    "# Check to see how many of the routing numbers were identified in ach_df\n",
    "\n",
    "num_rows_fednow = fednow_df.shape[0]\n",
    "\n",
    "num_rows_rtp = rtp_df.shape[0]\n",
    "\n",
    "# Print the number of rows\n",
    "print(f\"Number of banks in FedNow: {num_rows_fednow}\")\n",
    "print(f\"Number of banks in RTP: {num_rows_rtp}\")"
   ]
  },
  {
   "cell_type": "code",
   "execution_count": 7,
   "id": "24edf593-9411-40d9-a185-6610613c5ae5",
   "metadata": {},
   "outputs": [
    {
     "name": "stdout",
     "output_type": "stream",
     "text": [
      "Number of 1's in 'in_fednow': 1407\n",
      "Number of 1's in 'in_rtp': 1634\n"
     ]
    }
   ],
   "source": [
    "# Count the number of 1's in the 'in_fednow' and 'in_rtp' columns\n",
    "count_in_fednow = df_with_flags['in_fednow'].sum()\n",
    "count_in_rtp = df_with_flags['in_rtp'].sum()\n",
    "\n",
    "# Print the counts\n",
    "print(f\"Number of 1's in 'in_fednow': {count_in_fednow}\")\n",
    "print(f\"Number of 1's in 'in_rtp': {count_in_rtp}\")"
   ]
  },
  {
   "cell_type": "code",
   "execution_count": 8,
   "id": "fa7a1f1e-8339-489a-a8e6-507477d95f18",
   "metadata": {},
   "outputs": [],
   "source": [
    "# Identify unmatched routing numbers for FedNow\n",
    "unmatched_fednow = fednow_df[~fednow_df['Routing_Number'].isin(ach_df['Routing_Number'])]\n",
    "\n",
    "# Identify unmatched routing numbers for RTP\n",
    "unmatched_rtp = rtp_df[~rtp_df['Routing_Number'].isin(ach_df['Routing_Number'])]"
   ]
  },
  {
   "cell_type": "code",
   "execution_count": 9,
   "id": "dc2bcff2-1434-4892-85cf-b960aa6621dc",
   "metadata": {},
   "outputs": [],
   "source": [
    "# Save unmatched FedNow routing numbers\n",
    "unmatched_fednow.to_csv('Unmatched_Fednow_RTNs.csv', index=False)\n",
    "\n",
    "# Save unmatched RTP routing numbers\n",
    "unmatched_rtp.to_csv('Unmatched_RTP_RTNs.csv', index=False)"
   ]
  },
  {
   "cell_type": "code",
   "execution_count": null,
   "id": "c775cfb9-c2e9-47a9-8f30-948381c3fedb",
   "metadata": {},
   "outputs": [],
   "source": []
  }
 ],
 "metadata": {
  "kernelspec": {
   "display_name": "Python 3 (ipykernel)",
   "language": "python",
   "name": "python3"
  },
  "language_info": {
   "codemirror_mode": {
    "name": "ipython",
    "version": 3
   },
   "file_extension": ".py",
   "mimetype": "text/x-python",
   "name": "python",
   "nbconvert_exporter": "python",
   "pygments_lexer": "ipython3",
   "version": "3.12.2"
  }
 },
 "nbformat": 4,
 "nbformat_minor": 5
}
